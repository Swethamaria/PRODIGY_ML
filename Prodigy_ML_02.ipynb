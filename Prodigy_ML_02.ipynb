{
  "nbformat": 4,
  "nbformat_minor": 0,
  "metadata": {
    "colab": {
      "provenance": []
    },
    "kernelspec": {
      "name": "python3",
      "display_name": "Python 3"
    },
    "language_info": {
      "name": "python"
    }
  },
  "cells": [
    {
      "cell_type": "markdown",
      "source": [
        "# Swetha Maria Varghese\n",
        "# Prodigy Infotech\n",
        "# Machine Learning Intern"
      ],
      "metadata": {
        "id": "aZm3EW9--cX7"
      }
    },
    {
      "cell_type": "markdown",
      "source": [
        "# Task-02\n",
        "\n",
        "# Create a K-means clustering algorithm to group customers of a retail store based on their purchase history."
      ],
      "metadata": {
        "id": "SCQE7nQG-ct1"
      }
    },
    {
      "cell_type": "code",
      "source": [
        "import pandas as pd\n",
        "from sklearn.preprocessing import StandardScaler\n",
        "from sklearn.cluster import KMeans\n",
        "import matplotlib.pyplot as plt"
      ],
      "metadata": {
        "id": "f2C9l2jQ-dUe"
      },
      "execution_count": 1,
      "outputs": []
    },
    {
      "cell_type": "code",
      "source": [
        "## linking to google drive\n",
        "\n",
        "from google.colab import drive\n",
        "drive.mount ('/content/drive')"
      ],
      "metadata": {
        "colab": {
          "base_uri": "https://localhost:8080/"
        },
        "id": "kv5aQwMSAyzZ",
        "outputId": "5c557bda-616a-43f9-8b4c-ea01471240ab"
      },
      "execution_count": 2,
      "outputs": [
        {
          "output_type": "stream",
          "name": "stdout",
          "text": [
            "Mounted at /content/drive\n"
          ]
        }
      ]
    },
    {
      "cell_type": "markdown",
      "source": [
        "Load and Inspect the Dataset"
      ],
      "metadata": {
        "id": "mOm7UssHBTT_"
      }
    },
    {
      "cell_type": "code",
      "source": [
        "# Load the dataset\n",
        "data_path = '/content/drive/MyDrive/Colab Notebooks/SML WORK AND DATA/online_retail.csv'\n",
        "df = pd.read_csv(data_path)\n",
        "\n",
        "# Display the first few rows of the dataset\n",
        "print(df.head())\n",
        "\n",
        "# Display basic statistics of the dataset\n",
        "print(df.describe())\n",
        "\n",
        "# Check for any missing values\n",
        "print(df.isnull().sum())"
      ],
      "metadata": {
        "colab": {
          "base_uri": "https://localhost:8080/"
        },
        "id": "kzxUdBXUAy-S",
        "outputId": "877a6ae2-5b5d-4473-e8fc-1fb1cd5c49e7"
      },
      "execution_count": 3,
      "outputs": [
        {
          "output_type": "stream",
          "name": "stdout",
          "text": [
            "  InvoiceNo StockCode                          Description  Quantity  \\\n",
            "0    536365    85123A   WHITE HANGING HEART T-LIGHT HOLDER         6   \n",
            "1    536365     71053                  WHITE METAL LANTERN         6   \n",
            "2    536365    84406B       CREAM CUPID HEARTS COAT HANGER         8   \n",
            "3    536365    84029G  KNITTED UNION FLAG HOT WATER BOTTLE         6   \n",
            "4    536365    84029E       RED WOOLLY HOTTIE WHITE HEART.         6   \n",
            "\n",
            "           InvoiceDate  UnitPrice  CustomerID         Country  \n",
            "0  2010-12-01 08:26:00       2.55     17850.0  United Kingdom  \n",
            "1  2010-12-01 08:26:00       3.39     17850.0  United Kingdom  \n",
            "2  2010-12-01 08:26:00       2.75     17850.0  United Kingdom  \n",
            "3  2010-12-01 08:26:00       3.39     17850.0  United Kingdom  \n",
            "4  2010-12-01 08:26:00       3.39     17850.0  United Kingdom  \n",
            "            Quantity      UnitPrice     CustomerID\n",
            "count  541909.000000  541909.000000  406829.000000\n",
            "mean        9.552250       4.611114   15287.690570\n",
            "std       218.081158      96.759853    1713.600303\n",
            "min    -80995.000000  -11062.060000   12346.000000\n",
            "25%         1.000000       1.250000   13953.000000\n",
            "50%         3.000000       2.080000   15152.000000\n",
            "75%        10.000000       4.130000   16791.000000\n",
            "max     80995.000000   38970.000000   18287.000000\n",
            "InvoiceNo           0\n",
            "StockCode           0\n",
            "Description      1454\n",
            "Quantity            0\n",
            "InvoiceDate         0\n",
            "UnitPrice           0\n",
            "CustomerID     135080\n",
            "Country             0\n",
            "dtype: int64\n"
          ]
        }
      ]
    },
    {
      "cell_type": "markdown",
      "source": [
        "Preprocess the Data"
      ],
      "metadata": {
        "id": "M6Se0QNwBkrY"
      }
    },
    {
      "cell_type": "code",
      "source": [
        "# Drop rows with missing CustomerID\n",
        "df = df.dropna(subset=['CustomerID'])\n",
        "\n",
        "# Filter out canceled transactions (if any)\n",
        "df = df[df['Quantity'] > 0]"
      ],
      "metadata": {
        "id": "UavbNtcRBnyB"
      },
      "execution_count": 4,
      "outputs": []
    },
    {
      "cell_type": "markdown",
      "source": [
        "Aggregate purchase data by customer"
      ],
      "metadata": {
        "id": "cK4IrNCSB2a-"
      }
    },
    {
      "cell_type": "code",
      "source": [
        "# Aggregate purchase data by customer\n",
        "customer_data = df.groupby('CustomerID').agg({\n",
        "    'Quantity': 'sum',\n",
        "    'UnitPrice': 'mean',\n",
        "    'InvoiceNo': 'nunique'  # Number of transactions\n",
        "}).reset_index()\n",
        "\n",
        "# Rename columns for clarity\n",
        "customer_data.columns = ['CustomerID', 'TotalQuantity', 'AvgUnitPrice', 'NumTransactions']\n",
        "\n",
        "# Display the aggregated customer data\n",
        "print(customer_data.head())\n"
      ],
      "metadata": {
        "colab": {
          "base_uri": "https://localhost:8080/"
        },
        "id": "u7Mag-wmB7i1",
        "outputId": "e40da9f8-342c-4e9c-9f41-e86e75abff50"
      },
      "execution_count": 5,
      "outputs": [
        {
          "output_type": "stream",
          "name": "stdout",
          "text": [
            "   CustomerID  TotalQuantity  AvgUnitPrice  NumTransactions\n",
            "0     12346.0          74215      1.040000                1\n",
            "1     12347.0           2458      2.644011                7\n",
            "2     12348.0           2341      5.764839                4\n",
            "3     12349.0            631      8.289041                1\n",
            "4     12350.0            197      3.841176                1\n"
          ]
        }
      ]
    },
    {
      "cell_type": "markdown",
      "source": [
        "Select feature for clustering"
      ],
      "metadata": {
        "id": "HvxZcXofCPVy"
      }
    },
    {
      "cell_type": "code",
      "source": [
        "# Select features for clustering\n",
        "X = customer_data[['TotalQuantity', 'AvgUnitPrice', 'NumTransactions']]\n",
        "\n",
        "# Normalize the features\n",
        "scaler = StandardScaler()\n",
        "X_scaled = scaler.fit_transform(X)"
      ],
      "metadata": {
        "id": "txovLHDCCU_U"
      },
      "execution_count": 6,
      "outputs": []
    },
    {
      "cell_type": "markdown",
      "source": [
        "Applying K-means clustering"
      ],
      "metadata": {
        "id": "pTEz9pLOCXpA"
      }
    },
    {
      "cell_type": "code",
      "source": [
        "# Apply K-means clustering\n",
        "kmeans = KMeans(n_clusters=3, random_state=42)\n",
        "customer_data['Cluster'] = kmeans.fit_predict(X_scaled)\n",
        "\n",
        "# Display cluster centers\n",
        "print(kmeans.cluster_centers_)\n",
        "\n",
        "# Plot the clusters\n",
        "plt.scatter(X_scaled[:, 0], X_scaled[:, 1], c=customer_data['Cluster'])\n",
        "plt.xlabel('TotalQuantity (scaled)')\n",
        "plt.ylabel('AvgUnitPrice (scaled)')\n",
        "plt.title('Customer Clusters')\n",
        "plt.show()"
      ],
      "metadata": {
        "colab": {
          "base_uri": "https://localhost:8080/",
          "height": 579
        },
        "id": "f4rVrBD0Cby8",
        "outputId": "5b0d5e98-8c7e-4769-b001-b420e14f3b40"
      },
      "execution_count": 7,
      "outputs": [
        {
          "output_type": "stream",
          "name": "stderr",
          "text": [
            "/usr/local/lib/python3.10/dist-packages/sklearn/cluster/_kmeans.py:870: FutureWarning: The default value of `n_init` will change from 10 to 'auto' in 1.4. Set the value of `n_init` explicitly to suppress the warning\n",
            "  warnings.warn(\n"
          ]
        },
        {
          "output_type": "stream",
          "name": "stdout",
          "text": [
            "[[-5.57907396e-02 -1.36742201e-02 -4.61585131e-02]\n",
            " [-2.36045403e-01  5.93109597e+01 -4.24674873e-01]\n",
            " [ 1.00382207e+01 -1.33489210e-02  8.31468752e+00]]\n"
          ]
        },
        {
          "output_type": "display_data",
          "data": {
            "text/plain": [
              "<Figure size 640x480 with 1 Axes>"
            ],
            "image/png": "[encoded data removed]"
          },
          "metadata": {}
        }
      ]
    },
    {
      "cell_type": "markdown",
      "source": [
        "**Cluster Centers**\n",
        "\n",
        "The cluster centers (centroids) are as follows:\n",
        "\n",
        "Cluster 1: [-5.57907936e-02, -1.36742201e-02, -4.61585131e-02]\n",
        "\n",
        "Cluster 2: [-2.36045430e-01, 5.93109597e-01, -4.24674873e-01]\n",
        "\n",
        "Cluster 3: [1.00382207e+01, -1.33489210e-02, 8.31468752e+00]\n",
        "\n",
        "These centers represent the mean values of the features for the customers in each cluster, in the normalized feature space.\n",
        "\n",
        "\n",
        "**Visualizing the Clusters\n",
        "From the scatter plot**:\n",
        "\n",
        "X-axis: Represents the TotalQuantity (scaled).\n",
        "\n",
        "Y-axis: Represents the AvgUnitPrice (scaled).\n",
        "\n",
        "Color: Indicates the cluster to which each customer belongs.\n",
        "\n",
        "**Interpretation**\n",
        "\n",
        "*Cluster* *Distribution*:\n",
        "\n",
        "There are clear groupings of customers based on their purchasing behaviors.\n",
        "The majority of customers are clustered towards the lower end of both TotalQuantity and AvgUnitPrice, indicating a high number of low-volume and low-value transactions.\n",
        "\n",
        "*Cluster* *Characteristics*:\n",
        "\n",
        "Cluster 1 (purple): This cluster contains customers with low total quantities and low average unit prices. These are likely infrequent or low-spending customers.\n",
        "\n",
        "Cluster 2 (yellow): This cluster contains customers with slightly higher quantities and prices. These could be more regular customers but still not high spenders.\n",
        "\n",
        "Cluster 3 (green): This cluster has customers with significantly higher total quantities and average unit prices. These are likely high-value or frequent customers.\n",
        "\n",
        "\n",
        "**Outliers**:\n",
        "\n",
        "The green data point significantly higher on the AvgUnitPrice axis indicates an outlier or a customer who has a high average unit price compared to others. This customer might be purchasing expensive items but in lower quantities.\n",
        "\n",
        "**Business Insights**\n",
        "\n",
        "*Targeted* *Marketing*:\n",
        "\n",
        "Cluster 1: Engage with these customers through promotions and discounts to increase their purchase frequency and total quantity.\n",
        "\n",
        "Cluster 2: These customers are somewhat engaged but could be incentivized to increase their spending. Offering loyalty rewards or bundling products could be effective.\n",
        "\n",
        "Cluster 3: These high-value customers should be given special attention, perhaps through personalized offers, premium services, or exclusive deals to retain their loyalty.\n",
        "\n",
        "*Inventory* *Management*:\n",
        "\n",
        "Knowing the purchasing behavior of different customer clusters can help in better inventory planning and stocking of products that are preferred by each cluster.\n",
        "\n",
        "*Customer* *Service*:\n",
        "\n",
        "Tailoring customer service experiences based on the cluster can improve customer satisfaction. High-value customers (Cluster 3) might appreciate faster service and more personalized interactions.\n",
        "\n",
        "By understanding these clusters, the retail store can develop more effective strategies to cater to the needs and preferences of different customer segments, ultimately driving better customer satisfaction and increased sales.\n",
        "\n",
        "\n",
        "\n",
        "\n",
        "\n",
        "\n"
      ],
      "metadata": {
        "id": "-mMvHadIDubA"
      }
    }
  ]
}